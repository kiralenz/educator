{
 "cells": [
  {
   "cell_type": "code",
   "execution_count": 1,
   "id": "c9f8fa04-d8cb-4beb-8e43-83728fb7a1d8",
   "metadata": {},
   "outputs": [],
   "source": [
    "%load_ext blackcellmagic"
   ]
  },
  {
   "cell_type": "code",
   "execution_count": 2,
   "id": "2743c539-a08c-4cec-abcc-80391d8cc0d4",
   "metadata": {},
   "outputs": [],
   "source": [
    "import pandas as pd\n",
    "import numpy as np\n",
    "import json\n",
    "import openai\n",
    "import base64\n",
    "import os\n",
    "from langchain import OpenAI\n",
    "from langchain.prompts import PromptTemplate\n",
    "from langchain.chains import LLMChain\n",
    "import datetime"
   ]
  },
  {
   "cell_type": "code",
   "execution_count": 3,
   "id": "967b79b0-8b5e-47a4-911b-ad2dbfd7ffb4",
   "metadata": {},
   "outputs": [],
   "source": [
    "# getting keys\n",
    "# TODO: remove unnecessary aspects\n",
    "with open('../config.json') as f:\n",
    "    keys = json.load(f)\n",
    "PATH = keys['path']\n",
    "openai_organization = keys['openai_organization']\n",
    "openai.organization = openai_organization\n",
    "openai_api_key = keys['openai_api_key']\n",
    "openai.api_key = openai_api_key"
   ]
  },
  {
   "cell_type": "code",
   "execution_count": 4,
   "id": "55f515a5-a463-4075-a574-d55e4357bd49",
   "metadata": {},
   "outputs": [],
   "source": [
    "os.environ[\"OPENAI_API_KEY\"] = openai_api_key"
   ]
  },
  {
   "cell_type": "markdown",
   "id": "64cdcb3a-957d-4115-9a92-b5d63f73adae",
   "metadata": {},
   "source": [
    "# Variables "
   ]
  },
  {
   "cell_type": "code",
   "execution_count": 5,
   "id": "1c89ceb2-6081-4861-a93c-72a3e9e37a7f",
   "metadata": {},
   "outputs": [],
   "source": [
    "# Get the current date and time\n",
    "now = datetime.datetime.now()"
   ]
  },
  {
   "cell_type": "code",
   "execution_count": 6,
   "id": "24478b90-b9af-429f-aabd-c179350b50a8",
   "metadata": {},
   "outputs": [],
   "source": [
    "# Format the date and time as a string in the desired format\n",
    "timestamp = now.strftime(\"%Y%m%d%H%M%S\")"
   ]
  },
  {
   "cell_type": "markdown",
   "id": "df2abdf3-54d5-4ee8-ac56-fec41e861e3d",
   "metadata": {},
   "source": [
    "# Code review"
   ]
  },
  {
   "cell_type": "markdown",
   "id": "e417fd72-8724-45e6-ad33-d74e1b6fc200",
   "metadata": {
    "tags": []
   },
   "source": [
    "## Code input"
   ]
  },
  {
   "cell_type": "code",
   "execution_count": 7,
   "id": "dd7362f9-f9f2-43f3-b704-0e5368ca8f71",
   "metadata": {},
   "outputs": [],
   "source": [
    "# feature to be added: read from Github"
   ]
  },
  {
   "cell_type": "code",
   "execution_count": 8,
   "id": "674d4678-abee-481a-9b18-d7bfe423330a",
   "metadata": {
    "tags": []
   },
   "outputs": [],
   "source": [
    "# add code input as text here\n",
    "code_input = str('''\n",
    "    # Libraries\n",
    "    import streamlit as st\n",
    "    import pandas as pd\n",
    "    import numpy as np\n",
    "    import json\n",
    "    import base64\n",
    "\n",
    "    # getting variables from config.json\n",
    "    with open('config/config.json') as f:\n",
    "        keys = json.load(f)\n",
    "    PATH = keys['path']\n",
    "\n",
    "\n",
    "    # Functions\n",
    "    # better read functions from utils, but not yet working\n",
    "    def add_bg():\n",
    "        st.markdown(\n",
    "        f\"\"\"\n",
    "        <style>\n",
    "        .stApp {{\n",
    "            background-image: url(https://gist.githubusercontent.com/kiralenz/8fa216a5ab87e92944129da83d84dd5b/raw/806c89b90ee9c6eaf75f833eb9482c9cbca7dec1/bread_loaf.svg);\n",
    "            background-size: cover\n",
    "        }}\n",
    "        </style>\n",
    "        \"\"\",\n",
    "        unsafe_allow_html=True\n",
    "        )\n",
    "\n",
    "    def add_logo(height):\n",
    "        st.markdown(\n",
    "            f\"\"\"\n",
    "            <style>\n",
    "                [data-testid=\"stSidebarNav\"] {{\n",
    "                    background-image: url(https://gist.githubusercontent.com/kiralenz/16203a45856cfb596741f24f85e82fbe/raw/c9d93e3336730e77132d40df4eb8d758471bcfd8/keeprising_logo.svg);\n",
    "                    background-repeat: no-repeat;\n",
    "                    padding-top: {height - 40}px;\n",
    "                    background-position: 20px 20px;\n",
    "                }}\n",
    "            </style>\n",
    "            \"\"\",\n",
    "            unsafe_allow_html=True,\n",
    "        )\n",
    "\n",
    "    # merging historical activities (df_hist) with latest activity data (df_new) \n",
    "    # on the target or shared date column (date_column)\n",
    "    def add_latest_activity(df_hist, df_new, date_column):\n",
    "        # Fixing dtypes\n",
    "        df_hist[date_column] = df_hist[date_column].astype(str)\n",
    "        df_new[date_column] = df_new[date_column].astype(str)\n",
    "\n",
    "        # Df merging of historical feedings and latest feeding\n",
    "        df = pd.concat([df_hist, df_new], ignore_index=True)\n",
    "        # Fixing dtypes and formatting\n",
    "        df[date_column] = pd.to_datetime(df[date_column])\n",
    "        df[date_column] = df[date_column].dt.strftime('%Y-%m-%d')\n",
    "\n",
    "        return df\n",
    "\n",
    "    # adding a column with the microbial composition based on the feeding temperature\n",
    "    def bacteria_column(df, bac_compos):\n",
    "        df['bacteria_composition'] = np.where(\n",
    "            df[\"temperature\"] <= 20,\n",
    "            bac_compos.loc[\n",
    "                bac_compos[\"temperature\"] == 20, \"dominant_microbes\"\n",
    "            ],\n",
    "            np.where(\n",
    "                ((df[\"temperature\"] > 20) & (df[\"temperature\"] <= 25)),\n",
    "                bac_compos.loc[\n",
    "                    bac_compos[\"temperature\"] == 25, \"dominant_microbes\"\n",
    "                ],\n",
    "                np.where(\n",
    "                    ((df[\"temperature\"] > 25) & (df[\"temperature\"] <= 30)),\n",
    "                    bac_compos.loc[\n",
    "                        bac_compos[\"temperature\"] == 30, \"dominant_microbes\"\n",
    "                    ],\n",
    "                    bac_compos.loc[\n",
    "                        bac_compos[\"temperature\"] == 35, \"dominant_microbes\"\n",
    "                    ],\n",
    "                ),\n",
    "            ),\n",
    "        )\n",
    "        return df\n",
    "\n",
    "    # adding two columns for growth rates to a dataframe, one is time normalized\n",
    "    def growth_rate_cols(df):\n",
    "        df['growth_rate'] = (\n",
    "            df['end_height'] / df['initial_height']\n",
    "        )\n",
    "\n",
    "        df['growth_rate_per_hour'] = (\n",
    "            df['end_height'] \n",
    "            / df['initial_height'] \n",
    "            / df['feeding_time']\n",
    "        )\n",
    "\n",
    "        return df\n",
    "\n",
    "\n",
    "    # Loading data\n",
    "    feedings = pd.read_parquet(PATH + 'feedings.parquet')\n",
    "    bacteria_composition = pd.read_parquet(PATH + 'bacteria_composition.parquet')\n",
    "\n",
    "\n",
    "    # streamlit page\n",
    "    st.set_page_config(page_title=\"Keeprising\")\n",
    "    add_bg()  \n",
    "    add_logo(height=160)\n",
    "    st.title('How was your last feeding?') \n",
    "\n",
    "\n",
    "    # Adding new feeding data\n",
    "    # user input for feeding\n",
    "    date_today = st.date_input('Feeding date')\n",
    "    temperature_today = st.number_input('Temperature')\n",
    "    feeding_time_today = st.number_input('Feeding duration')\n",
    "    initial_height_today = st.number_input('Intial height')\n",
    "    end_height_today = st.number_input('End height')\n",
    "    bubble_size_today = st.number_input('Bubble size')\n",
    "\n",
    "    # error handling for invalid input\n",
    "    if temperature_today < 0 or feeding_time_today < 0 or initial_height_today < 0 or end_height_today < 0 or end_height_today < initial_height_today:\n",
    "        st.error('Invalid input! Please enter valid values for all feeding data. IF these had been your actual values consider immediately repeating the feeding to save your starter!')\n",
    "    else:\n",
    "        # storing latest information in a df\n",
    "        latest_feeding = pd.DataFrame(data={\n",
    "            'feeding_date':date_today, \n",
    "            'temperature':temperature_today,\n",
    "            'feeding_time':feeding_time_today,\n",
    "            'initial_height':initial_height_today,\n",
    "            'end_height':end_height_today,\n",
    "            'bubble_size':bubble_size_today\n",
    "        }, index=[0])\n",
    "\n",
    "        # merging new feeding to history of feedings\n",
    "        feedings = add_latest_activity(df_hist=feedings, df_new=latest_feeding, date_column='feeding_date')\n",
    "\n",
    "        # saving df to local file\n",
    "        feedings.to_parquet(PATH + 'feedings.parquet')\n",
    "\n",
    "        # application display of latest feedings\n",
    "        st.dataframe(feedings.tail())\n",
    "        st.write(\"Nice job! Well done!\")\n",
    "\n",
    "\n",
    "        # Data processing\n",
    "        feedings_processed = feedings.copy()\n",
    "        # Bacteria composition depending on temperature\n",
    "        feedings_processed = bacteria_column(df=feedings_processed, bac_compos=bacteria_composition)\n",
    "        # Growth rate composition\n",
    "        feedings_processed = growth_rate_cols(df=feedings_processed)\n",
    "\n",
    "\n",
    "        # Storing data\n",
    "        feedings_processed.to_parquet(PATH + 'feedings_processed.parquet')\" \n",
    "        '''\n",
    ")"
   ]
  },
  {
   "cell_type": "code",
   "execution_count": 9,
   "id": "6eb7d0db-f416-42de-973c-49350789fa0e",
   "metadata": {},
   "outputs": [],
   "source": [
    "# Define the file name with the timestamp\n",
    "# TODO: add the PATH to the filename\n",
    "filename_codeinput = f\"../data/{timestamp}_codeinput.txt\""
   ]
  },
  {
   "cell_type": "code",
   "execution_count": 10,
   "id": "7c1fb6ee-fd60-4996-83bf-6ccd7af30663",
   "metadata": {},
   "outputs": [],
   "source": [
    "# Write the string to the file\n",
    "with open(filename_codeinput, \"w\") as file:\n",
    "    file.write(code_input)"
   ]
  },
  {
   "cell_type": "markdown",
   "id": "1b290768-fe8b-444d-a153-f8254eee7eac",
   "metadata": {
    "tags": []
   },
   "source": [
    "## Feedback"
   ]
  },
  {
   "cell_type": "code",
   "execution_count": 11,
   "id": "5e04a71e-9d7e-4aeb-8abf-3b677666934c",
   "metadata": {},
   "outputs": [],
   "source": [
    "# defining the prompt template for a standardized input\n",
    "# TODO: refine prompt\n",
    "feedback_prompt = PromptTemplate(\n",
    "    input_variables=[\"code\"],\n",
    "    template=\"Please review the following code and give five recommendations with detailed explanations how to improve the programming: {code}?\",\n",
    ")"
   ]
  },
  {
   "cell_type": "code",
   "execution_count": 12,
   "id": "a070e952-218b-462e-81a7-bd01228d40c0",
   "metadata": {},
   "outputs": [],
   "source": [
    "# initializing the LM\n",
    "# TO EXPLORE: adjust temperature\n",
    "# TO EXPLORE: test other LMs\n",
    "feedback_llm = OpenAI(temperature=0.3)"
   ]
  },
  {
   "cell_type": "code",
   "execution_count": 13,
   "id": "02bfc934-76f1-4b5d-ab6e-a6f8ed7468b8",
   "metadata": {},
   "outputs": [],
   "source": [
    "# a simple chain taking user input, formatting the prompt and sending it to the LM\n",
    "feedback_chain = LLMChain(llm=feedback_llm, prompt=feedback_prompt)"
   ]
  },
  {
   "cell_type": "code",
   "execution_count": 14,
   "id": "4febd6b1-59f4-4177-9666-66555cf27f22",
   "metadata": {},
   "outputs": [],
   "source": [
    "# Run the chain only specifying the input variable.\n",
    "feedback = feedback_chain.run(code_input)"
   ]
  },
  {
   "cell_type": "code",
   "execution_count": 15,
   "id": "74644da9-bab4-4f9d-a862-a2de762bbf5e",
   "metadata": {},
   "outputs": [
    {
     "data": {
      "text/plain": [
       "'\\n\\n1. Move the code that is used to read the config.json file into a separate function. This will make the code more organized and easier to read. \\n2. Move the code that is used to add the background and logo into separate functions. This will make the code more organized and easier to read. \\n3. Move the code that is used to add the latest activity into a separate function. This will make the code more organized and easier to read. \\n4. Move the code that is used to add the bacteria column into a separate function. This will make the code more organized and easier to read. \\n5. Move the code that is used to add the growth rate columns into a separate function. This will make the code more organized and easier to read.'"
      ]
     },
     "execution_count": 15,
     "metadata": {},
     "output_type": "execute_result"
    }
   ],
   "source": [
    "feedback"
   ]
  },
  {
   "cell_type": "code",
   "execution_count": 16,
   "id": "3374829d-099b-4d80-a976-bc619016cd54",
   "metadata": {},
   "outputs": [],
   "source": [
    "# Define the file name with the timestamp\n",
    "# TODO: add the PATH to the filename\n",
    "filename_feedback = f\"../data/{timestamp}_feedback.txt\""
   ]
  },
  {
   "cell_type": "code",
   "execution_count": 17,
   "id": "f97870fa-fff0-48e8-a167-7e496473678c",
   "metadata": {},
   "outputs": [],
   "source": [
    "# Write the string to the file\n",
    "with open(filename_feedback, \"w\") as file:\n",
    "    file.write(feedback)"
   ]
  },
  {
   "cell_type": "code",
   "execution_count": null,
   "id": "a1115ac1-9b04-4107-9d4c-e6f4e032f606",
   "metadata": {},
   "outputs": [],
   "source": []
  },
  {
   "cell_type": "code",
   "execution_count": null,
   "id": "b6affaef-0216-47b9-b47b-af85334e5d4d",
   "metadata": {},
   "outputs": [],
   "source": []
  },
  {
   "cell_type": "markdown",
   "id": "76330750-b652-4bb5-9b0e-01eebadaaf14",
   "metadata": {
    "tags": []
   },
   "source": [
    "# Learning goals "
   ]
  },
  {
   "cell_type": "markdown",
   "id": "5e5619e8-5410-48cc-a2f1-9f6276e3134b",
   "metadata": {
    "tags": []
   },
   "source": [
    "## Shorten review for learning target"
   ]
  },
  {
   "cell_type": "code",
   "execution_count": 18,
   "id": "c8ebed97-886d-42cb-8f2d-7690ebdf87dd",
   "metadata": {},
   "outputs": [],
   "source": [
    "# defining the prompt template for a standardized input\n",
    "short_feedback_prompt = PromptTemplate(\n",
    "    input_variables=[\"feedback\"],\n",
    "    template=\"Please shorten the aspects of the following feeback: {feedback}?\",\n",
    ")"
   ]
  },
  {
   "cell_type": "code",
   "execution_count": 19,
   "id": "f4ac53e1-aaf8-425e-b1d1-9381964e75c6",
   "metadata": {},
   "outputs": [],
   "source": [
    "# initializing the LM\n",
    "short_feedback_llm = OpenAI(temperature=0)"
   ]
  },
  {
   "cell_type": "code",
   "execution_count": 20,
   "id": "6c5c31d7-1c43-4aca-ad0e-5d9a9c6f28bd",
   "metadata": {},
   "outputs": [],
   "source": [
    "# a simple chain taking user input, formatting the prompt and sending it to the LM\n",
    "short_feedback_chain = LLMChain(llm=short_feedback_llm, prompt=short_feedback_prompt)"
   ]
  },
  {
   "cell_type": "code",
   "execution_count": 21,
   "id": "76a238ec-17ec-451a-985d-9c4eba43dce0",
   "metadata": {},
   "outputs": [],
   "source": [
    "# Run the chain only specifying the input variable.\n",
    "short_feedback = short_feedback_chain.run(feedback)"
   ]
  },
  {
   "cell_type": "code",
   "execution_count": 22,
   "id": "1ac2da05-970e-4456-bd35-b57c9850e9f3",
   "metadata": {},
   "outputs": [
    {
     "data": {
      "text/plain": [
       "'\\n\\n1. Move config.json file code into a separate function. \\n2. Move background/logo code into separate functions. \\n3. Move latest activity code into a separate function. \\n4. Move bacteria column code into a separate function. \\n5. Move growth rate columns code into a separate function.'"
      ]
     },
     "execution_count": 22,
     "metadata": {},
     "output_type": "execute_result"
    }
   ],
   "source": [
    "short_feedback"
   ]
  },
  {
   "cell_type": "code",
   "execution_count": 23,
   "id": "1b6f8b1d-c173-48a8-a566-779e4849bbc5",
   "metadata": {},
   "outputs": [],
   "source": [
    "# Define the file name with the timestamp\n",
    "# TODO: add the PATH to the filename\n",
    "filename_short_feedback = f\"../data/{timestamp}_shortfeedback.txt\""
   ]
  },
  {
   "cell_type": "code",
   "execution_count": 24,
   "id": "1f30791c-219a-47c7-9814-0f06748b89f7",
   "metadata": {},
   "outputs": [],
   "source": [
    "# Write the string to the file\n",
    "with open(filename_short_feedback, \"w\") as file:\n",
    "    file.write(short_feedback)"
   ]
  },
  {
   "cell_type": "code",
   "execution_count": null,
   "id": "76f20613-3adf-492f-8cbb-ce2ff5069075",
   "metadata": {},
   "outputs": [],
   "source": []
  },
  {
   "cell_type": "markdown",
   "id": "b536255f-8a9e-4a33-88c3-9d0180ee0c89",
   "metadata": {
    "tags": []
   },
   "source": [
    "## Set learning goals"
   ]
  },
  {
   "cell_type": "code",
   "execution_count": 47,
   "id": "9cbd79ef-9256-4ba2-a5bc-d298ea5e8233",
   "metadata": {},
   "outputs": [],
   "source": [
    "# This has to be done once and then only if the user checks a button like \"generate learning targets\"."
   ]
  },
  {
   "cell_type": "code",
   "execution_count": 48,
   "id": "531028d7-5a4d-4747-8d85-edbb02bdd96d",
   "metadata": {},
   "outputs": [],
   "source": [
    "# Define the directory where your files are located\n",
    "# TODO: use PATH here\n",
    "directory = \"../data\""
   ]
  },
  {
   "cell_type": "code",
   "execution_count": 49,
   "id": "95a860b2-d95e-4bfd-a18f-69e4b5eb1467",
   "metadata": {},
   "outputs": [],
   "source": [
    "# Get a list of all files in the directory\n",
    "files = os.listdir(directory)"
   ]
  },
  {
   "cell_type": "code",
   "execution_count": 50,
   "id": "181f981f-a62b-43c7-9912-59d4401ea987",
   "metadata": {},
   "outputs": [],
   "source": [
    "# Filter the list to only include files with the correct format\n",
    "files = [f for f in files if f.endswith(\"_shortfeedback.txt\") and len(f) == 32]"
   ]
  },
  {
   "cell_type": "code",
   "execution_count": 51,
   "id": "a40ba194-cfee-415f-9ff1-4be872e911c4",
   "metadata": {},
   "outputs": [],
   "source": [
    "# Sort the list of files by date, with the most recent file first\n",
    "files.sort(reverse=True)"
   ]
  },
  {
   "cell_type": "code",
   "execution_count": 52,
   "id": "0803c8f8-f738-4bd9-9e54-555a9a8e107f",
   "metadata": {},
   "outputs": [],
   "source": [
    "# Get the two most recent files\n",
    "latest_files = files[:2]"
   ]
  },
  {
   "cell_type": "code",
   "execution_count": 53,
   "id": "b781651c-2475-418d-a031-9e8223e1629d",
   "metadata": {},
   "outputs": [],
   "source": [
    "# Read the contents of the two files into string variables\n",
    "file_contents = []\n",
    "for file in latest_files:\n",
    "    with open(os.path.join(directory, file), \"r\") as f:\n",
    "        file_contents.append(f.read())"
   ]
  },
  {
   "cell_type": "code",
   "execution_count": 54,
   "id": "96f4362b-e58f-4340-8a11-d12c4ddddffa",
   "metadata": {},
   "outputs": [],
   "source": [
    "# Combine the two file contents into a single string variable\n",
    "latest_short_feedbacks = \"\\n\".join(file_contents)"
   ]
  },
  {
   "cell_type": "code",
   "execution_count": 55,
   "id": "ee62e96a-56bc-4ec0-a5e2-cb0be277a256",
   "metadata": {},
   "outputs": [
    {
     "data": {
      "text/plain": [
       "'\\n\\n1. Move config.json file code into a separate function. \\n2. Move background/logo code into separate functions. \\n3. Move latest activity code into a separate function. \\n4. Move bacteria column code into a separate function. \\n5. Move growth rate columns code into a separate function.\\n\\n\\n1. Add try/except block for user input.\\n2. Move functions to separate file.\\n3. Add comments for functions.\\n4. Add comments for variables.\\n5. Add comments for code lines.'"
      ]
     },
     "execution_count": 55,
     "metadata": {},
     "output_type": "execute_result"
    }
   ],
   "source": [
    "latest_short_feedbacks"
   ]
  },
  {
   "cell_type": "code",
   "execution_count": 56,
   "id": "9bf72919-ff81-41a5-a2d4-3d65613df242",
   "metadata": {},
   "outputs": [],
   "source": [
    "# defining the prompt template for a standardized input\n",
    "learning_goal_prompt = PromptTemplate(\n",
    "    input_variables=[\"short_feedback\"],\n",
    "    template=\"Please select the four most relevant points from this list of feedback comments: {short_feedback}. Consider content recommendations more relevant than format recommendations. Consider repetitive aspects more.\",\n",
    ")"
   ]
  },
  {
   "cell_type": "code",
   "execution_count": 57,
   "id": "f797f124-c69b-4abf-9d6a-e402f4fa2f61",
   "metadata": {},
   "outputs": [],
   "source": [
    "# initializing the LM\n",
    "# TODO: check for optimal LLM\n",
    "learning_goal_llm = OpenAI(temperature=0.5)"
   ]
  },
  {
   "cell_type": "code",
   "execution_count": 58,
   "id": "d8d4b4d1-d3f3-4c42-ac81-af8c35548b72",
   "metadata": {},
   "outputs": [],
   "source": [
    "# a simple chain taking user input, formatting the prompt and sending it to the LM\n",
    "learning_goal_chain = LLMChain(llm=learning_goal_llm, prompt=learning_goal_prompt)"
   ]
  },
  {
   "cell_type": "code",
   "execution_count": 59,
   "id": "163396a4-e25c-4383-880a-00378fa85760",
   "metadata": {},
   "outputs": [],
   "source": [
    "# Run the chain only specifying the input variable.\n",
    "learning_goals = learning_goal_chain.run(latest_short_feedbacks)"
   ]
  },
  {
   "cell_type": "code",
   "execution_count": 60,
   "id": "dc3910a6-41b8-4aef-9431-5cc74f8c0195",
   "metadata": {},
   "outputs": [
    {
     "data": {
      "text/plain": [
       "'\\n\\n1. Move config.json file code into a separate function. \\n2. Move functions to separate file.\\n3. Add comments for functions.\\n4. Add try/except block for user input.'"
      ]
     },
     "execution_count": 60,
     "metadata": {},
     "output_type": "execute_result"
    }
   ],
   "source": [
    "learning_goals"
   ]
  },
  {
   "cell_type": "code",
   "execution_count": 61,
   "id": "c7b80209-d046-4bd9-afaf-9cf0cb3c26b7",
   "metadata": {},
   "outputs": [],
   "source": [
    "# Define the file name with the timestamp\n",
    "# TODO: add the PATH to the filename\n",
    "filename_learning_goals = f\"../data/{timestamp}_learninggoals.txt\""
   ]
  },
  {
   "cell_type": "code",
   "execution_count": 62,
   "id": "070ce624-3d6e-4a5a-bea8-0078d175cbf1",
   "metadata": {},
   "outputs": [],
   "source": [
    "# Write the string to the file\n",
    "with open(filename_learning_goals, \"w\") as file:\n",
    "    file.write(learning_goals)"
   ]
  },
  {
   "cell_type": "code",
   "execution_count": null,
   "id": "dd7ad629-2272-4c0b-8f1a-bc6c736751a1",
   "metadata": {},
   "outputs": [],
   "source": []
  },
  {
   "cell_type": "code",
   "execution_count": null,
   "id": "506bb7f6-066d-495d-b17d-6ce396160c38",
   "metadata": {},
   "outputs": [],
   "source": []
  },
  {
   "cell_type": "code",
   "execution_count": null,
   "id": "47a39940-8cd0-4f93-8f5d-4ee77b7af758",
   "metadata": {},
   "outputs": [],
   "source": []
  },
  {
   "cell_type": "markdown",
   "id": "cecbbaf3-c1e0-44de-a738-676f67687019",
   "metadata": {
    "tags": []
   },
   "source": [
    "## Compare learning goals and latest submitted code"
   ]
  },
  {
   "cell_type": "code",
   "execution_count": 40,
   "id": "5be8f8d8-4a36-442b-8851-441f85e6028f",
   "metadata": {},
   "outputs": [],
   "source": [
    "# read latest learning goals"
   ]
  },
  {
   "cell_type": "code",
   "execution_count": 64,
   "id": "74a666e9-84a7-4a34-a278-4e1a9d83c1c8",
   "metadata": {},
   "outputs": [],
   "source": [
    "# Get a list of all files in the directory\n",
    "files = os.listdir(directory)"
   ]
  },
  {
   "cell_type": "code",
   "execution_count": 65,
   "id": "37e4f5af-ba76-449b-8890-0e1ac3d2bdce",
   "metadata": {},
   "outputs": [],
   "source": [
    "# Filter the list to only include files with the correct format\n",
    "files = [f for f in files if f.endswith(\"_learninggoals.txt\") and len(f) == 32]"
   ]
  },
  {
   "cell_type": "code",
   "execution_count": 67,
   "id": "d9f0c59f-5c88-408c-8371-cdebd1b71e56",
   "metadata": {},
   "outputs": [],
   "source": [
    "# Sort the list of files by date, with the most recent file first\n",
    "files.sort(reverse=True)"
   ]
  },
  {
   "cell_type": "code",
   "execution_count": 72,
   "id": "145b9ffb-bafb-4d3d-b6f8-2b3457465670",
   "metadata": {},
   "outputs": [],
   "source": [
    "# Get the most recent file\n",
    "latest_file = files[:1]"
   ]
  },
  {
   "cell_type": "code",
   "execution_count": 80,
   "id": "4495ed90-f00c-4e5d-9a09-bc29601eebca",
   "metadata": {},
   "outputs": [],
   "source": [
    "with open(os.path.join(directory, latest_file[0]), \"r\") as f:\n",
    "    learning_goals = f.read()"
   ]
  },
  {
   "cell_type": "code",
   "execution_count": 83,
   "id": "c81016c1-4655-4a91-bace-12831c6292d3",
   "metadata": {},
   "outputs": [],
   "source": [
    "evaluation_prompt = PromptTemplate(\n",
    "    input_variables=[\"code_input\", \"learning_goals\"],\n",
    "    template=\"Please compare this code: {code_input} with these learning goals: {learning_goals}. If the programmer considered the learning goals when writing the provided code, say something motivating. If the programmer didn't consider the learning goals, gently remind the person of their learning goals.\",\n",
    ")"
   ]
  },
  {
   "cell_type": "code",
   "execution_count": 84,
   "id": "9c7d72b6-27ce-41c9-a25e-2c9f32af044f",
   "metadata": {},
   "outputs": [],
   "source": [
    "evaluation_prompt = evaluation_prompt.format(code_input=code_input, learning_goals=learning_goals)"
   ]
  },
  {
   "cell_type": "code",
   "execution_count": 85,
   "id": "d1e1a411-2b19-4b4f-8f83-1c470b7da64d",
   "metadata": {},
   "outputs": [],
   "source": [
    "evaluation_llm = OpenAI(temperature=0.3)"
   ]
  },
  {
   "cell_type": "code",
   "execution_count": 86,
   "id": "c0b3cfa1-36a7-4096-884f-026cd0f1509a",
   "metadata": {},
   "outputs": [
    {
     "data": {
      "text/plain": [
       "'\\n\\nThe programmer has considered the learning goals when writing the provided code. The code is well organized and functions are written in separate functions. The functions are also commented to explain what they do. The code also includes an error handling block for user input. Well done!'"
      ]
     },
     "execution_count": 86,
     "metadata": {},
     "output_type": "execute_result"
    }
   ],
   "source": [
    "evaluation_llm(evaluation_prompt)"
   ]
  },
  {
   "cell_type": "code",
   "execution_count": null,
   "id": "52e5d2e3-75aa-4b41-bac7-3d77219fa1b4",
   "metadata": {},
   "outputs": [],
   "source": []
  },
  {
   "cell_type": "code",
   "execution_count": null,
   "id": "4e5e9ed4-1082-4ff9-8c7f-aeb383104a78",
   "metadata": {},
   "outputs": [],
   "source": []
  }
 ],
 "metadata": {
  "kernelspec": {
   "display_name": "Python 3 (ipykernel)",
   "language": "python",
   "name": "python3"
  },
  "language_info": {
   "codemirror_mode": {
    "name": "ipython",
    "version": 3
   },
   "file_extension": ".py",
   "mimetype": "text/x-python",
   "name": "python",
   "nbconvert_exporter": "python",
   "pygments_lexer": "ipython3",
   "version": "3.9.13"
  }
 },
 "nbformat": 4,
 "nbformat_minor": 5
}
