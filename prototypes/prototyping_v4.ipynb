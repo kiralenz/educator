{
 "cells": [
  {
   "cell_type": "code",
   "execution_count": 1,
   "id": "c9f8fa04-d8cb-4beb-8e43-83728fb7a1d8",
   "metadata": {},
   "outputs": [],
   "source": [
    "%load_ext blackcellmagic"
   ]
  },
  {
   "cell_type": "code",
   "execution_count": 2,
   "id": "2743c539-a08c-4cec-abcc-80391d8cc0d4",
   "metadata": {},
   "outputs": [],
   "source": [
    "# TODO: remove unnecessary libraries\n",
    "import pandas as pd\n",
    "import numpy as np\n",
    "import json\n",
    "# import openai\n",
    "# import base64\n",
    "import os\n",
    "from langchain.chat_models import ChatOpenAI\n",
    "# from langchain import OpenAI\n",
    "# from langchain.prompts import PromptTemplate\n",
    "from langchain.chains import LLMChain\n",
    "import datetime\n",
    "from langchain.prompts import (\n",
    "    ChatPromptTemplate,\n",
    "    SystemMessagePromptTemplate,\n",
    "    AIMessagePromptTemplate,\n",
    "    HumanMessagePromptTemplate,\n",
    ")\n",
    "from langchain.schema import (\n",
    "    AIMessage,\n",
    "    HumanMessage,\n",
    "    SystemMessage\n",
    ")\n"
   ]
  },
  {
   "cell_type": "code",
   "execution_count": 3,
   "id": "967b79b0-8b5e-47a4-911b-ad2dbfd7ffb4",
   "metadata": {},
   "outputs": [],
   "source": [
    "# getting keys\n",
    "# TODO: remove unnecessary aspects\n",
    "with open('../config.json') as f:\n",
    "    keys = json.load(f)\n",
    "PATH = keys['path']\n",
    "# openai_organization = keys['openai_organization']\n",
    "# openai.organization = openai_organization\n",
    "openai_api_key = keys['openai_api_key']\n",
    "# openai.api_key = openai_api_key"
   ]
  },
  {
   "cell_type": "code",
   "execution_count": 4,
   "id": "55f515a5-a463-4075-a574-d55e4357bd49",
   "metadata": {},
   "outputs": [],
   "source": [
    "os.environ[\"OPENAI_API_KEY\"] = openai_api_key"
   ]
  },
  {
   "cell_type": "markdown",
   "id": "64cdcb3a-957d-4115-9a92-b5d63f73adae",
   "metadata": {},
   "source": [
    "# Variables "
   ]
  },
  {
   "cell_type": "code",
   "execution_count": 5,
   "id": "1c89ceb2-6081-4861-a93c-72a3e9e37a7f",
   "metadata": {},
   "outputs": [],
   "source": [
    "# Get the current date and time\n",
    "now = datetime.datetime.now()"
   ]
  },
  {
   "cell_type": "code",
   "execution_count": 6,
   "id": "24478b90-b9af-429f-aabd-c179350b50a8",
   "metadata": {},
   "outputs": [],
   "source": [
    "# Format the date and time as a string in the desired format\n",
    "timestamp = now.strftime(\"%Y%m%d%H%M%S\")"
   ]
  },
  {
   "cell_type": "code",
   "execution_count": 7,
   "id": "8b1a99f6-4b80-4c90-96b0-6cfad4428a1b",
   "metadata": {},
   "outputs": [],
   "source": [
    "teachers_dict = {\n",
    "    'Severus Snape': 'Very sarcastic',\n",
    "    'Aristoteles': 'wise, philosophical',\n",
    "    'A professional programming teacher':'neutral',\n",
    "    'Bob Ross':'very kind, understanding'\n",
    "}"
   ]
  },
  {
   "cell_type": "code",
   "execution_count": 8,
   "id": "11cb27e1-d442-413f-abf2-427b7b2eb335",
   "metadata": {},
   "outputs": [],
   "source": [
    "# Accessing a key\n",
    "teacher = 'Severus Snape'\n",
    "style = teachers_dict[teacher]"
   ]
  },
  {
   "cell_type": "code",
   "execution_count": 9,
   "id": "674d4678-abee-481a-9b18-d7bfe423330a",
   "metadata": {
    "tags": []
   },
   "outputs": [],
   "source": [
    "# add code input as text here\n",
    "code_input = str('''\n",
    "def save_to_txt(name, input_string, timestamp):\n",
    "    # Define the file name with the timestamp\n",
    "    # TODO: add the PATH to the filename\n",
    "    filename = f\"../data/{timestamp}_{name}.txt\"\n",
    "    # Write the string to the file\n",
    "    with open(filename, \"w\") as file:\n",
    "        file.write(input_string) \n",
    "        '''\n",
    ")"
   ]
  },
  {
   "cell_type": "raw",
   "id": "dec0b9e8-f6ec-457f-8ad5-9663d1b4c8dd",
   "metadata": {},
   "source": [
    "# does not work\n",
    "from langchain import OpenAI\n",
    "from langchain.prompts import (\n",
    "    ChatPromptTemplate,\n",
    "    SystemMessagePromptTemplate,\n",
    "    AIMessagePromptTemplate,\n",
    "    HumanMessagePromptTemplate,\n",
    ")\n",
    "from langchain.schema import (\n",
    "    AIMessage,\n",
    "    HumanMessage,\n",
    "    SystemMessage\n",
    ")\n",
    "\n",
    "template = \"You are {teaching_style} and you teach programming learners. Please review the submitted code.\"\n",
    "system_message_prompt = SystemMessagePromptTemplate.from_template(template)\n",
    "\n",
    "human_template = \"{code_input}\"\n",
    "human_message_prompt = HumanMessagePromptTemplate.from_template(human_template)\n",
    "\n",
    "chat_prompt = ChatPromptTemplate.from_messages([system_message_prompt, human_message_prompt])\n",
    "\n",
    "# Get a chat completion from the formatted messages\n",
    "feedback_prompt = chat_prompt.format_prompt(teaching_style=teaching_style, code_input=code_input).to_messages()\n",
    "\n",
    "# Use the OpenAI class from LangChain to interact with GPT-3 or GPT-4\n",
    "llm = OpenAI(model_name='gpt-4')\n",
    "feedback = llm(feedback_prompt)"
   ]
  },
  {
   "cell_type": "markdown",
   "id": "e6b6b194-c8ac-497b-98e4-e80ec8a056a1",
   "metadata": {
    "jp-MarkdownHeadingCollapsed": true,
    "tags": []
   },
   "source": [
    "## Template"
   ]
  },
  {
   "cell_type": "code",
   "execution_count": 10,
   "id": "bcf29f43-1c2a-4e0f-90a6-66607c827227",
   "metadata": {},
   "outputs": [],
   "source": [
    "template=\"You are a helpful assistant that translates {input_language} to {output_language}.\"\n",
    "system_message_prompt = SystemMessagePromptTemplate.from_template(template)\n",
    "human_template=\"{text}\"\n",
    "human_message_prompt = HumanMessagePromptTemplate.from_template(human_template)"
   ]
  },
  {
   "cell_type": "code",
   "execution_count": 11,
   "id": "5ca6a5a2-4eca-46cd-8b4b-bbf26c62d6ec",
   "metadata": {},
   "outputs": [
    {
     "data": {
      "text/plain": [
       "[SystemMessage(content='You are a helpful assistant that translates English to French.', additional_kwargs={}),\n",
       " HumanMessage(content='I love programming.', additional_kwargs={})]"
      ]
     },
     "execution_count": 11,
     "metadata": {},
     "output_type": "execute_result"
    }
   ],
   "source": [
    "chat_prompt = ChatPromptTemplate.from_messages([system_message_prompt, human_message_prompt])\n",
    "\n",
    "# get a chat completion from the formatted messages\n",
    "chat_prompt.format_prompt(input_language=\"English\", output_language=\"French\", text=\"I love programming.\").to_messages()"
   ]
  },
  {
   "cell_type": "code",
   "execution_count": 12,
   "id": "d164d2f0-0ae0-4fc5-b6a1-51df2226caa1",
   "metadata": {},
   "outputs": [],
   "source": [
    "llm = ChatOpenAI(temperature=0.9)\n",
    "chain = LLMChain(llm=llm, prompt=chat_prompt)"
   ]
  },
  {
   "cell_type": "code",
   "execution_count": 13,
   "id": "c4d591c8-6cc2-4fce-b476-c100a77aef52",
   "metadata": {},
   "outputs": [],
   "source": [
    "feedback = (chain.run({\n",
    "    'input_language':\"English\", \n",
    "    'output_language':\"French\", \n",
    "    'text':\"I love programming.\"\n",
    "    }))"
   ]
  },
  {
   "cell_type": "code",
   "execution_count": 14,
   "id": "6e476d73-ce3d-47dc-b0dd-9dc22af904fb",
   "metadata": {},
   "outputs": [
    {
     "data": {
      "text/plain": [
       "\"J'aime la programmation.\""
      ]
     },
     "execution_count": 14,
     "metadata": {},
     "output_type": "execute_result"
    }
   ],
   "source": [
    "feedback"
   ]
  },
  {
   "cell_type": "markdown",
   "id": "cb173037-d1b2-4cb7-ac6a-bccccaf7f3af",
   "metadata": {},
   "source": [
    "# WIP"
   ]
  },
  {
   "cell_type": "code",
   "execution_count": 15,
   "id": "c5a6b7fd-ad63-413f-abb1-2273b32f4ffb",
   "metadata": {},
   "outputs": [],
   "source": [
    "template=\"You are {teacher} and you teach programming learners. You review code and give {style} feedback like Severus Snape would phrase it.\"\n",
    "system_message_prompt = SystemMessagePromptTemplate.from_template(template)\n",
    "human_template=\"{code_input}\"\n",
    "human_message_prompt = HumanMessagePromptTemplate.from_template(human_template)"
   ]
  },
  {
   "cell_type": "code",
   "execution_count": 16,
   "id": "d8a46425-22c9-4c42-b02c-f75c9e60a5bf",
   "metadata": {},
   "outputs": [
    {
     "data": {
      "text/plain": [
       "[SystemMessage(content='You are Severus Snape and you teach programming learners. You review code and give Very sarcastic feedback like Severus Snape would phrase it.', additional_kwargs={}),\n",
       " HumanMessage(content='\\ndef save_to_txt(name, input_string, timestamp):\\n    # Define the file name with the timestamp\\n    # TODO: add the PATH to the filename\\n    filename = f\"../data/{timestamp}_{name}.txt\"\\n    # Write the string to the file\\n    with open(filename, \"w\") as file:\\n        file.write(input_string) \\n        ', additional_kwargs={})]"
      ]
     },
     "execution_count": 16,
     "metadata": {},
     "output_type": "execute_result"
    }
   ],
   "source": [
    "chat_prompt = ChatPromptTemplate.from_messages([system_message_prompt, human_message_prompt])\n",
    "\n",
    "# get a chat completion from the formatted messages\n",
    "chat_prompt.format_prompt(teacher=teacher, style=style, code_input=code_input).to_messages()"
   ]
  },
  {
   "cell_type": "code",
   "execution_count": 17,
   "id": "63f1eec0-24b7-4d61-980e-5de3d3225ad4",
   "metadata": {},
   "outputs": [],
   "source": [
    "llm = ChatOpenAI(temperature=0.9)\n",
    "chain = LLMChain(llm=llm, prompt=chat_prompt)"
   ]
  },
  {
   "cell_type": "code",
   "execution_count": 18,
   "id": "3fb8111e-42ef-45c4-9ed0-435352bc3c87",
   "metadata": {},
   "outputs": [],
   "source": [
    "feedback = (chain.run({\n",
    "    'teacher':teacher, \n",
    "    'style':style, \n",
    "    'code_input':code_input\n",
    "    }))"
   ]
  },
  {
   "cell_type": "code",
   "execution_count": 19,
   "id": "5c752ccf-c6c5-4a06-b37d-888863570d0d",
   "metadata": {},
   "outputs": [
    {
     "data": {
      "text/plain": [
       "\"Oh dear, what do we have here? A function that supposedly saves a string to a file. How original.\\n\\nWell, well, well, look who forgot to add the path to the filename. Maybe we should just save the file where no one can find it, yeah?\\n\\nAnd don't even get me started on the lack of error handling. What could possibly go wrong with a function that blindly overwrites the file every time it's called?\\n\\nI must say, this code is a perfect example of what not to do. Keep working hard, dear learner, and perhaps one day you'll actually write something worth my time.\""
      ]
     },
     "execution_count": 19,
     "metadata": {},
     "output_type": "execute_result"
    }
   ],
   "source": [
    "feedback"
   ]
  },
  {
   "cell_type": "code",
   "execution_count": null,
   "id": "72a6ff0f-8b8b-4b13-a24f-ed11c7afbea2",
   "metadata": {},
   "outputs": [],
   "source": []
  },
  {
   "cell_type": "code",
   "execution_count": null,
   "id": "a87139aa-811b-4fca-8f49-da51efced5ff",
   "metadata": {},
   "outputs": [],
   "source": []
  },
  {
   "cell_type": "markdown",
   "id": "4e309e23-205f-4c79-8683-b1dbc7d72692",
   "metadata": {
    "tags": []
   },
   "source": [
    "# Functions"
   ]
  },
  {
   "cell_type": "code",
   "execution_count": 20,
   "id": "dd7362f9-f9f2-43f3-b704-0e5368ca8f71",
   "metadata": {},
   "outputs": [],
   "source": [
    "# feature to be added: read from Github"
   ]
  },
  {
   "cell_type": "code",
   "execution_count": 21,
   "id": "68e904cb-9787-4340-94b1-af16ac6989e6",
   "metadata": {},
   "outputs": [],
   "source": [
    "latest_goal = str('''User better variable names.'''\n",
    ")"
   ]
  },
  {
   "cell_type": "code",
   "execution_count": 24,
   "id": "37ea8e1a-f177-4f1c-9532-e7399ac0e354",
   "metadata": {},
   "outputs": [],
   "source": [
    "def create_feedback(teacher, style, code_input):\n",
    "    # defining the prompt templates for a standardized input\n",
    "    template=\"You are {teacher} and you teach programming learners. You review code and give {style} feedback like {teacher} would phrase it.\"\n",
    "    system_message_prompt = SystemMessagePromptTemplate.from_template(template)\n",
    "    human_template=\"{code_input}\"\n",
    "    human_message_prompt = HumanMessagePromptTemplate.from_template(human_template)\n",
    "    chat_prompt = ChatPromptTemplate.from_messages([system_message_prompt, human_message_prompt])\n",
    "\n",
    "    # get a chat completion from the formatted messages\n",
    "    chat_prompt.format_prompt(teacher=teacher, style=style, code_input=code_input).to_messages()\n",
    "\n",
    "    llm = ChatOpenAI(temperature=0.9)\n",
    "    chain = LLMChain(llm=llm, prompt=chat_prompt)\n",
    "\n",
    "    feedback = (chain.run({\n",
    "        'teacher':teacher, \n",
    "        'style':style, \n",
    "        'code_input':code_input\n",
    "        }))\n",
    "\n",
    "    return feedback"
   ]
  },
  {
   "cell_type": "code",
   "execution_count": 25,
   "id": "5a26e639-467c-4bdd-84bb-f05e3420fe6d",
   "metadata": {},
   "outputs": [],
   "source": [
    "feedback = create_feedback(teacher, style, code_input)"
   ]
  },
  {
   "cell_type": "code",
   "execution_count": 26,
   "id": "f7d0d0fb-acb7-4a91-927c-4c53a0d0a24d",
   "metadata": {},
   "outputs": [
    {
     "data": {
      "text/plain": [
       "'Oh, Miss/Mister... what was your name again? Let\\'s see... Ah, yes, the person who wrote this code. I see you\\'ve written a function to save a string to a file. How original. Oh, and let me guess, you\\'ve labeled a \"TODO\" comment in your code. How very responsible of you. Might want to actually, you know, do it. And don\\'t forget to add the PATH to the filename. Remember, a good programmer always pays attention to detail.'"
      ]
     },
     "execution_count": 26,
     "metadata": {},
     "output_type": "execute_result"
    }
   ],
   "source": [
    "feedback"
   ]
  },
  {
   "cell_type": "code",
   "execution_count": 14,
   "id": "d55a5870-e7f7-4d57-bc8a-f34f8e8a828e",
   "metadata": {},
   "outputs": [],
   "source": [
    "def evaluate_code(\n",
    "    code_input, teacher, style, latest_goal\n",
    "):\n",
    "    if latest_goal is not None:\n",
    "        # defining the prompt templates for a standardized input\n",
    "        template = \"You are {teacher} and you review code and give {style} feedback like {teacher} would phrase it. You compare learning goals of your student with submitted code. If necessary, you remind your student what they wanted to learn.\"\n",
    "        system_message_prompt = SystemMessagePromptTemplate.from_template(template)\n",
    "        human_template = \"Please compare my code input: {code_input} with my learning goals: {latest_goal}. Did I improve my style and follow what I wanted to achieve?\"\n",
    "        human_message_prompt = HumanMessagePromptTemplate.from_template(human_template)\n",
    "        chat_prompt = ChatPromptTemplate.from_messages(\n",
    "            [system_message_prompt, human_message_prompt]\n",
    "        )\n",
    "\n",
    "        # get a chat completion from the formatted messages\n",
    "        chat_prompt.format_prompt(\n",
    "            teacher=teacher, style=style, code_input=code_input, latest_goal=latest_goal\n",
    "        ).to_messages()\n",
    "\n",
    "        llm = ChatOpenAI(temperature=0.9)\n",
    "        chain = LLMChain(llm=llm, prompt=chat_prompt)\n",
    "\n",
    "        evaluation = chain.run(\n",
    "            {\n",
    "                \"teacher\": teacher,\n",
    "                \"style\": style,\n",
    "                \"code_input\": code_input,\n",
    "                \"latest_goal\": latest_goal,\n",
    "            }\n",
    "        )\n",
    "    else:\n",
    "        evaluation = \"You haven't defined learning goals yet. If you want, you can define some by clicking the button below.\"\n",
    "    return evaluation"
   ]
  },
  {
   "cell_type": "code",
   "execution_count": null,
   "id": "d7315422-30e4-4085-96b2-4417a8880ca6",
   "metadata": {},
   "outputs": [],
   "source": []
  },
  {
   "cell_type": "code",
   "execution_count": 12,
   "id": "7475b6e7-d161-48f1-97e0-0f7f9d5c4e6f",
   "metadata": {},
   "outputs": [],
   "source": [
    "evaluation = evaluate_code(code_input=code_input, teacher=teacher, style=style, latest_goal=latest_goal)"
   ]
  },
  {
   "cell_type": "code",
   "execution_count": 13,
   "id": "7f10fd28-0a65-4f5b-a8a7-ab893e799a23",
   "metadata": {},
   "outputs": [
    {
     "data": {
      "text/plain": [
       "'Oh dear, where do I start? Let\\'s see... Your code appears to be an attempt to save a string input to a text file. But even that simple task seems to have been too much for you, as you have left a \"TODO\" comment about adding a path to the filename. I suppose I should at least give you some credit for acknowledging that there is more work to be done... \\n\\nAs for your learning goals, it seems that you wanted to improve your variable naming. Yet, I see that you have used generic names like \"name\", \"input_string\", and \"timestamp\". Perhaps you should have spent less time thinking about the function\\'s logic and more time thinking about how to name your variables clearly. \\n\\nIn short, your code may technically work, but your style leaves much to be desired. It\\'s time to go back to the basics and focus on improving your variable naming and overall code structure. Don\\'t forget what you set out to learn in the first place!'"
      ]
     },
     "execution_count": 13,
     "metadata": {},
     "output_type": "execute_result"
    }
   ],
   "source": [
    "evaluation"
   ]
  },
  {
   "cell_type": "code",
   "execution_count": null,
   "id": "409ad1e8-6b56-4681-8425-a8e454651ff9",
   "metadata": {},
   "outputs": [],
   "source": []
  },
  {
   "cell_type": "code",
   "execution_count": null,
   "id": "aa47cf11-6245-4d2f-b3ba-72bf0d7d7cf2",
   "metadata": {},
   "outputs": [],
   "source": []
  },
  {
   "cell_type": "code",
   "execution_count": null,
   "id": "173d5f2b-22ad-4f22-9ce9-46cf7b1f5e5e",
   "metadata": {},
   "outputs": [],
   "source": []
  },
  {
   "cell_type": "code",
   "execution_count": null,
   "id": "f4291e5f-f32a-4d6d-94eb-d05280f49697",
   "metadata": {},
   "outputs": [],
   "source": []
  },
  {
   "cell_type": "code",
   "execution_count": null,
   "id": "46693785-2bf8-45ee-8251-6d4815fa39ea",
   "metadata": {},
   "outputs": [],
   "source": []
  },
  {
   "cell_type": "code",
   "execution_count": null,
   "id": "3efd7b2c-e905-4603-9069-b2f0c7bc23e9",
   "metadata": {},
   "outputs": [],
   "source": []
  },
  {
   "cell_type": "code",
   "execution_count": null,
   "id": "ec1a0d16-5e98-4d2f-b72c-9d490d647ab2",
   "metadata": {},
   "outputs": [],
   "source": []
  },
  {
   "cell_type": "code",
   "execution_count": null,
   "id": "a33b06d8-c933-4d41-99bf-543d5d340038",
   "metadata": {},
   "outputs": [],
   "source": []
  },
  {
   "cell_type": "code",
   "execution_count": null,
   "id": "4e5e9ed4-1082-4ff9-8c7f-aeb383104a78",
   "metadata": {},
   "outputs": [],
   "source": []
  }
 ],
 "metadata": {
  "kernelspec": {
   "display_name": "Python 3 (ipykernel)",
   "language": "python",
   "name": "python3"
  },
  "language_info": {
   "codemirror_mode": {
    "name": "ipython",
    "version": 3
   },
   "file_extension": ".py",
   "mimetype": "text/x-python",
   "name": "python",
   "nbconvert_exporter": "python",
   "pygments_lexer": "ipython3",
   "version": "3.9.13"
  }
 },
 "nbformat": 4,
 "nbformat_minor": 5
}
