{
 "cells": [
  {
   "cell_type": "code",
   "execution_count": 1,
   "id": "39eddf2f-50bc-437c-8bf3-5fa9b4ca9bff",
   "metadata": {},
   "outputs": [],
   "source": [
    "import pandas as pd\n",
    "import numpy as np\n",
    "import json\n",
    "import os\n",
    "import datetime\n",
    "from langchain import OpenAI\n",
    "from langchain.chat_models import ChatOpenAI\n",
    "from langchain.chains import LLMChain\n",
    "from langchain.prompts import (\n",
    "    PromptTemplate,\n",
    "    ChatPromptTemplate,\n",
    "    SystemMessagePromptTemplate,\n",
    "    HumanMessagePromptTemplate,\n",
    ")\n",
    "from langchain.schema import (\n",
    "    HumanMessage,\n",
    "    SystemMessage\n",
    ")\n",
    "import streamlit as st\n",
    "from PIL import Image"
   ]
  },
  {
   "cell_type": "code",
   "execution_count": 3,
   "id": "f9fd2d21-764d-48ec-92fa-693e1d525c8e",
   "metadata": {},
   "outputs": [],
   "source": [
    "# getting keys\n",
    "# TODO: remove unnecessary aspects\n",
    "with open('config.json') as f:\n",
    "    keys = json.load(f)\n",
    "PATH = keys['path']\n",
    "# openai_organization = keys['openai_organization']\n",
    "# openai.organization = openai_organization\n",
    "openai_api_key = keys['openai_api_key']\n",
    "# openai.api_key = openai_api_key"
   ]
  },
  {
   "cell_type": "code",
   "execution_count": 4,
   "id": "4f0a0ec7-a001-451d-8261-331b82186437",
   "metadata": {},
   "outputs": [],
   "source": [
    "PATH = keys['path']"
   ]
  },
  {
   "cell_type": "code",
   "execution_count": 5,
   "id": "2e9c30ca-cd69-4cee-9913-16bd496a9e8d",
   "metadata": {},
   "outputs": [
    {
     "data": {
      "text/plain": [
       "'/Users/kiralenz/Documents/keeprising/data/'"
      ]
     },
     "execution_count": 5,
     "metadata": {},
     "output_type": "execute_result"
    }
   ],
   "source": [
    "PATH"
   ]
  },
  {
   "cell_type": "code",
   "execution_count": null,
   "id": "6a31e3d4-6f0a-4d53-be1c-7ce37bf84a83",
   "metadata": {},
   "outputs": [],
   "source": [
    "# Variables \n",
    "\n",
    "# Get the current date and time\n",
    "now = datetime.datetime.now()\n",
    "# Format the date and time as a string in the desired format\n",
    "timestamp = now.strftime(\"%Y%m%d%H%M%S\")\n",
    "# the available teachers and their characteristic style\n",
    "teachers_dict = {\n",
    "    'Severus Snape': 'Very sarcastic',\n",
    "    'Aristoteles': 'wise, philosophical',\n",
    "    'A professional programming teacher':'neutral',\n",
    "    'Bob Ross':'very kind, understanding'\n",
    "}"
   ]
  },
  {
   "cell_type": "code",
   "execution_count": null,
   "id": "af7995c7-e86d-44ef-9588-1d303204fc0c",
   "metadata": {},
   "outputs": [],
   "source": [
    "# Functions\n",
    "\n",
    "def save_to_txt(name, input_string, timestamp):\n",
    "    # Define the directory path\n",
    "    directory = \"Documents/educator/data/\"\n",
    "    # Create the directory if it doesn't exist\n",
    "    os.makedirs(directory, exist_ok=True)\n",
    "    # Define the file name with the timestamp\n",
    "    filename = f\"{directory}{timestamp}_{name}.txt\"\n",
    "    # Write the string to the file\n",
    "    with open(filename, \"w\") as file:\n",
    "        file.write(input_string)"
   ]
  }
 ],
 "metadata": {
  "kernelspec": {
   "display_name": "Python 3 (ipykernel)",
   "language": "python",
   "name": "python3"
  },
  "language_info": {
   "codemirror_mode": {
    "name": "ipython",
    "version": 3
   },
   "file_extension": ".py",
   "mimetype": "text/x-python",
   "name": "python",
   "nbconvert_exporter": "python",
   "pygments_lexer": "ipython3",
   "version": "3.9.13"
  }
 },
 "nbformat": 4,
 "nbformat_minor": 5
}
