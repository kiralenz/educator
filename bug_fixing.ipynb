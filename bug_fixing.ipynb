{
 "cells": [
  {
   "cell_type": "code",
   "execution_count": 1,
   "id": "39eddf2f-50bc-437c-8bf3-5fa9b4ca9bff",
   "metadata": {},
   "outputs": [],
   "source": [
    "import pandas as pd\n",
    "import numpy as np\n",
    "import json\n",
    "import os\n",
    "import datetime\n",
    "from langchain import OpenAI\n",
    "from langchain.chat_models import ChatOpenAI\n",
    "from langchain.chains import LLMChain\n",
    "from langchain.prompts import (\n",
    "    PromptTemplate,\n",
    "    ChatPromptTemplate,\n",
    "    SystemMessagePromptTemplate,\n",
    "    HumanMessagePromptTemplate,\n",
    ")\n",
    "from langchain.schema import (\n",
    "    HumanMessage,\n",
    "    SystemMessage\n",
    ")\n",
    "import streamlit as st\n",
    "from PIL import Image"
   ]
  },
  {
   "cell_type": "code",
   "execution_count": 2,
   "id": "f9fd2d21-764d-48ec-92fa-693e1d525c8e",
   "metadata": {},
   "outputs": [],
   "source": [
    "# getting keys\n",
    "# TODO: remove unnecessary aspects\n",
    "with open('config.json') as f:\n",
    "    keys = json.load(f)\n",
    "PATH = keys['path']\n",
    "# openai_organization = keys['openai_organization']\n",
    "# openai.organization = openai_organization\n",
    "openai_api_key = keys['openai_api_key']\n",
    "# openai.api_key = openai_api_key"
   ]
  },
  {
   "cell_type": "code",
   "execution_count": 3,
   "id": "eab86f31-959f-495f-b15d-a7b223218dfb",
   "metadata": {},
   "outputs": [],
   "source": [
    "DATA_PATH = os.path.join(PATH, 'data/')"
   ]
  },
  {
   "cell_type": "code",
   "execution_count": 4,
   "id": "2de023bc-deed-4876-ae09-75bc503cd564",
   "metadata": {},
   "outputs": [
    {
     "data": {
      "text/plain": [
       "'/Users/kiralenz/Documents/educator/'"
      ]
     },
     "execution_count": 4,
     "metadata": {},
     "output_type": "execute_result"
    }
   ],
   "source": [
    "PATH"
   ]
  },
  {
   "cell_type": "code",
   "execution_count": 4,
   "id": "6a31e3d4-6f0a-4d53-be1c-7ce37bf84a83",
   "metadata": {},
   "outputs": [],
   "source": [
    "# Variables \n",
    "\n",
    "# Get the current date and time\n",
    "now = datetime.datetime.now()\n",
    "# Format the date and time as a string in the desired format\n",
    "timestamp = now.strftime(\"%Y%m%d%H%M%S\")\n",
    "# the available teachers and their characteristic style\n",
    "teachers_dict = {\n",
    "    'Severus Snape': 'Very sarcastic',\n",
    "    'Aristoteles': 'wise, philosophical',\n",
    "    'A professional programming teacher':'neutral',\n",
    "    'Bob Ross':'very kind, understanding'\n",
    "}"
   ]
  },
  {
   "cell_type": "code",
   "execution_count": 5,
   "id": "11cb27e1-d442-413f-abf2-427b7b2eb335",
   "metadata": {},
   "outputs": [],
   "source": [
    "# Accessing a key\n",
    "teacher = 'Severus Snape'\n",
    "style = teachers_dict[teacher]"
   ]
  },
  {
   "cell_type": "code",
   "execution_count": 6,
   "id": "674d4678-abee-481a-9b18-d7bfe423330a",
   "metadata": {
    "tags": []
   },
   "outputs": [],
   "source": [
    "# add code input as text here\n",
    "code_input = str('''\n",
    "def save_to_txt(name, input_string, timestamp):\n",
    "    # Define the file name with the timestamp\n",
    "    # TODO: add the PATH to the filename\n",
    "    filename = f\"../data/{timestamp}_{name}.txt\"\n",
    "    # Write the string to the file\n",
    "    with open(filename, \"w\") as file:\n",
    "        file.write(input_string) \n",
    "        '''\n",
    ")"
   ]
  },
  {
   "cell_type": "code",
   "execution_count": 9,
   "id": "af7995c7-e86d-44ef-9588-1d303204fc0c",
   "metadata": {},
   "outputs": [],
   "source": [
    "# Functions\n",
    "\n",
    "def save_to_txt(name, input_string, timestamp, data_path):\n",
    "    # Create the directory if it doesn't exist\n",
    "    os.makedirs(data_path, exist_ok=True)\n",
    "    # Define the file name with the timestamp\n",
    "    filename = f\"{data_path}{timestamp}_{name}.txt\"\n",
    "    # Write the string to the file\n",
    "    with open(filename, \"w\") as file:\n",
    "        file.write(input_string)"
   ]
  },
  {
   "cell_type": "code",
   "execution_count": 10,
   "id": "a727f78d-7916-47a7-be2f-875cb46c58a3",
   "metadata": {},
   "outputs": [],
   "source": [
    "save_to_txt(name='codeinput', input_string=code_input, timestamp=timestamp, data_path=DATA_PATH)"
   ]
  },
  {
   "cell_type": "code",
   "execution_count": null,
   "id": "80b8ea05-a8d2-4714-b8b2-31e1d92f6896",
   "metadata": {},
   "outputs": [],
   "source": []
  }
 ],
 "metadata": {
  "kernelspec": {
   "display_name": "Python 3 (ipykernel)",
   "language": "python",
   "name": "python3"
  },
  "language_info": {
   "codemirror_mode": {
    "name": "ipython",
    "version": 3
   },
   "file_extension": ".py",
   "mimetype": "text/x-python",
   "name": "python",
   "nbconvert_exporter": "python",
   "pygments_lexer": "ipython3",
   "version": "3.9.13"
  }
 },
 "nbformat": 4,
 "nbformat_minor": 5
}
